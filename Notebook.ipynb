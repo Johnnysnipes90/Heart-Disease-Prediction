{
 "cells": [
  {
   "cell_type": "markdown",
   "metadata": {},
   "source": [
    "# Assessment - Machine Learning, Data Coordinator with eHealth Africa\n",
    "\n",
    "© 2024\n",
    "\n",
    "---\n",
    "\n",
    "## Section B\n",
    "\n",
    "eHealth Africa has carried out investigation on various factors that can cause heart disease. The data on patients with the heart disease are collected in the southern and northern part of Nigeria and the description of the data is shown in Table 1.\n",
    "\n",
    "### Table 1: Heart Disease Data Dictionary\n",
    "\n",
    "| Variable Name | Description                               | Role   | Type     | Units     |\n",
    "|---------------|-------------------------------------------|--------|----------|-----------|\n",
    "| `age`           | age of the patient                        | Feature| Integer  | years     |\n",
    "| `sex`           | gender of the patient                     | Feature| Categorical | -      |\n",
    "| `cp`            | Chest pain type                           | Feature| Categorical | -      |\n",
    "| `trestbps`      | resting blood pressure (on admission to the hospital) | Feature | Integer | mm/Hg |\n",
    "| `chol`          | serum cholesterol                         | Feature| Integer  | mg/dl    |\n",
    "| `fbs`           | fasting blood sugar > 120 mg/dl           | Feature| Categorical | -      |\n",
    "| `restecg`       | Resting electrocardiographic results      | Feature| Categorical | -      |\n",
    "| `thalach`       | maximum heart rate achieved               | Feature| Integer  | -         |\n",
    "| `exang`         | exercise induced angina                   | Feature| Categorical | -      |\n",
    "| `oldpeak`       | ST depression induced by exercise  relative to rest        | Feature| Float    | - |\n",
    "| `slope`         | Slope of the peak exercise ST segment     | Feature| Categorical | -      |\n",
    "| `ca`            | number of major vessels (0-3) colored by fluoroscopy | Feature | Integer | - |\n",
    "| `thal`          | Thallium stress test                      | Feature| Categorical | -      |\n",
    "| `status`        | diagnosis of heart disease                | Target | Categorical | -      |\n",
    "\n",
    "- GOAL: Predict the presence of heart disease in patients using machine learning models and data science techniques for predictive modelling and risk analysis, particularly in the healthcare sector.\n",
    "- Dataset: Heart disease data from southern and northern Nigeria.\n",
    "\n"
   ]
  },
  {
   "cell_type": "markdown",
   "metadata": {},
   "source": [
    "# Library Imports"
   ]
  },
  {
   "cell_type": "code",
   "execution_count": 1,
   "metadata": {},
   "outputs": [],
   "source": [
    "# Standard Libraries\n",
    "import pandas as pd\n",
    "import numpy as np\n",
    "\n",
    "# Visualization Libraries\n",
    "import matplotlib.pyplot as plt\n",
    "import seaborn as sns\n",
    "import os\n",
    "import json\n",
    "\n",
    "\n",
    "from sklearn.svm import SVC\n",
    "# Machine Learning Libraries\n",
    "from sklearn.model_selection import train_test_split, cross_val_score, GridSearchCV\n",
    "from sklearn.preprocessing import StandardScaler, LabelEncoder, OneHotEncoder\n",
    "from sklearn.metrics import accuracy_score, precision_score, recall_score, f1_score, roc_auc_score\n",
    "from sklearn.metrics import accuracy_score, confusion_matrix, roc_auc_score, classification_report\n",
    "from sklearn.ensemble import RandomForestClassifier\n",
    "from sklearn.linear_model import LogisticRegression\n"
   ]
  },
  {
   "cell_type": "markdown",
   "metadata": {},
   "source": [
    "# Data Loading and Initial Exploration"
   ]
  },
  {
   "cell_type": "code",
   "execution_count": 2,
   "metadata": {},
   "outputs": [],
   "source": [
    "# Load datasets\n",
    "DATA_PATH_North = os.getenv(\"DATA_PATH\", default=\"northern heart diease data.csv\")\n",
    "DATA_PATH_South = os.getenv(\"DATA_PATH\", default=\"southern heart disease data.csv\")\n",
    "df_north = pd.read_csv(DATA_PATH_North)\n",
    "df_south = pd.read_csv(DATA_PATH_South)"
   ]
  },
  {
   "cell_type": "code",
   "execution_count": 3,
   "metadata": {},
   "outputs": [
    {
     "data": {
      "text/html": [
       "<div>\n",
       "<style scoped>\n",
       "    .dataframe tbody tr th:only-of-type {\n",
       "        vertical-align: middle;\n",
       "    }\n",
       "\n",
       "    .dataframe tbody tr th {\n",
       "        vertical-align: top;\n",
       "    }\n",
       "\n",
       "    .dataframe thead th {\n",
       "        text-align: right;\n",
       "    }\n",
       "</style>\n",
       "<table border=\"1\" class=\"dataframe\">\n",
       "  <thead>\n",
       "    <tr style=\"text-align: right;\">\n",
       "      <th></th>\n",
       "      <th>age</th>\n",
       "      <th>sex</th>\n",
       "      <th>cp</th>\n",
       "      <th>trestbps</th>\n",
       "      <th>chol</th>\n",
       "      <th>fbs</th>\n",
       "      <th>restecg</th>\n",
       "      <th>thalach</th>\n",
       "      <th>exang</th>\n",
       "      <th>oldpeak</th>\n",
       "      <th>slope</th>\n",
       "      <th>ca</th>\n",
       "      <th>thal</th>\n",
       "      <th>status</th>\n",
       "    </tr>\n",
       "  </thead>\n",
       "  <tbody>\n",
       "    <tr>\n",
       "      <th>0</th>\n",
       "      <td>63.0</td>\n",
       "      <td>male</td>\n",
       "      <td>typical angina</td>\n",
       "      <td>145.0</td>\n",
       "      <td>233</td>\n",
       "      <td>True</td>\n",
       "      <td>2</td>\n",
       "      <td>150</td>\n",
       "      <td>no</td>\n",
       "      <td>2.3</td>\n",
       "      <td>downsloping</td>\n",
       "      <td>0.0</td>\n",
       "      <td>fixed defect</td>\n",
       "      <td>absent</td>\n",
       "    </tr>\n",
       "    <tr>\n",
       "      <th>1</th>\n",
       "      <td>67.0</td>\n",
       "      <td>male</td>\n",
       "      <td>asymptomatic</td>\n",
       "      <td>160.0</td>\n",
       "      <td>286</td>\n",
       "      <td>False</td>\n",
       "      <td>2</td>\n",
       "      <td>108</td>\n",
       "      <td>yes</td>\n",
       "      <td>1.5</td>\n",
       "      <td>flat</td>\n",
       "      <td>3.0</td>\n",
       "      <td>normal</td>\n",
       "      <td>present</td>\n",
       "    </tr>\n",
       "    <tr>\n",
       "      <th>2</th>\n",
       "      <td>67.0</td>\n",
       "      <td>male</td>\n",
       "      <td>asymptomatic</td>\n",
       "      <td>120.0</td>\n",
       "      <td>229</td>\n",
       "      <td>False</td>\n",
       "      <td>2</td>\n",
       "      <td>129</td>\n",
       "      <td>yes</td>\n",
       "      <td>2.6</td>\n",
       "      <td>flat</td>\n",
       "      <td>2.0</td>\n",
       "      <td>reversable defect</td>\n",
       "      <td>present</td>\n",
       "    </tr>\n",
       "    <tr>\n",
       "      <th>3</th>\n",
       "      <td>37.0</td>\n",
       "      <td>male</td>\n",
       "      <td>non-anginal pain</td>\n",
       "      <td>130.0</td>\n",
       "      <td>250</td>\n",
       "      <td>False</td>\n",
       "      <td>0</td>\n",
       "      <td>187</td>\n",
       "      <td>no</td>\n",
       "      <td>3.5</td>\n",
       "      <td>downsloping</td>\n",
       "      <td>0.0</td>\n",
       "      <td>normal</td>\n",
       "      <td>absent</td>\n",
       "    </tr>\n",
       "    <tr>\n",
       "      <th>4</th>\n",
       "      <td>41.0</td>\n",
       "      <td>female</td>\n",
       "      <td>atypical angina</td>\n",
       "      <td>130.0</td>\n",
       "      <td>204</td>\n",
       "      <td>False</td>\n",
       "      <td>2</td>\n",
       "      <td>172</td>\n",
       "      <td>no</td>\n",
       "      <td>1.4</td>\n",
       "      <td>upsloping</td>\n",
       "      <td>0.0</td>\n",
       "      <td>normal</td>\n",
       "      <td>absent</td>\n",
       "    </tr>\n",
       "  </tbody>\n",
       "</table>\n",
       "</div>"
      ],
      "text/plain": [
       "    age     sex                cp  trestbps  chol    fbs  restecg  thalach  \\\n",
       "0  63.0    male    typical angina     145.0   233   True        2      150   \n",
       "1  67.0    male      asymptomatic     160.0   286  False        2      108   \n",
       "2  67.0    male      asymptomatic     120.0   229  False        2      129   \n",
       "3  37.0    male  non-anginal pain     130.0   250  False        0      187   \n",
       "4  41.0  female   atypical angina     130.0   204  False        2      172   \n",
       "\n",
       "  exang  oldpeak        slope   ca                thal   status  \n",
       "0    no      2.3  downsloping  0.0        fixed defect   absent  \n",
       "1   yes      1.5         flat  3.0              normal  present  \n",
       "2   yes      2.6         flat  2.0  reversable defect   present  \n",
       "3    no      3.5  downsloping  0.0              normal   absent  \n",
       "4    no      1.4    upsloping  0.0              normal   absent  "
      ]
     },
     "metadata": {},
     "output_type": "display_data"
    },
    {
     "data": {
      "text/html": [
       "<div>\n",
       "<style scoped>\n",
       "    .dataframe tbody tr th:only-of-type {\n",
       "        vertical-align: middle;\n",
       "    }\n",
       "\n",
       "    .dataframe tbody tr th {\n",
       "        vertical-align: top;\n",
       "    }\n",
       "\n",
       "    .dataframe thead th {\n",
       "        text-align: right;\n",
       "    }\n",
       "</style>\n",
       "<table border=\"1\" class=\"dataframe\">\n",
       "  <thead>\n",
       "    <tr style=\"text-align: right;\">\n",
       "      <th></th>\n",
       "      <th>age</th>\n",
       "      <th>sex</th>\n",
       "      <th>cp</th>\n",
       "      <th>trestbps</th>\n",
       "      <th>chol</th>\n",
       "      <th>fbs</th>\n",
       "      <th>restecg</th>\n",
       "      <th>thalach</th>\n",
       "      <th>exang</th>\n",
       "      <th>oldpeak</th>\n",
       "      <th>slope</th>\n",
       "      <th>ca</th>\n",
       "      <th>thal</th>\n",
       "      <th>status</th>\n",
       "      <th>Unnamed: 14</th>\n",
       "      <th>Unnamed: 15</th>\n",
       "    </tr>\n",
       "  </thead>\n",
       "  <tbody>\n",
       "    <tr>\n",
       "      <th>0</th>\n",
       "      <td>70.0</td>\n",
       "      <td>male</td>\n",
       "      <td>asymptomatic</td>\n",
       "      <td>130</td>\n",
       "      <td>322</td>\n",
       "      <td>no</td>\n",
       "      <td>2</td>\n",
       "      <td>109.0</td>\n",
       "      <td>False</td>\n",
       "      <td>2.4</td>\n",
       "      <td>flat</td>\n",
       "      <td>3</td>\n",
       "      <td>normal</td>\n",
       "      <td>present</td>\n",
       "      <td>NaN</td>\n",
       "      <td>NaN</td>\n",
       "    </tr>\n",
       "    <tr>\n",
       "      <th>1</th>\n",
       "      <td>67.0</td>\n",
       "      <td>female</td>\n",
       "      <td>non-anginal pain</td>\n",
       "      <td>115</td>\n",
       "      <td>564</td>\n",
       "      <td>no</td>\n",
       "      <td>2</td>\n",
       "      <td>160.0</td>\n",
       "      <td>False</td>\n",
       "      <td>1.6</td>\n",
       "      <td>flat</td>\n",
       "      <td>0</td>\n",
       "      <td>reversable defect</td>\n",
       "      <td>absent</td>\n",
       "      <td>NaN</td>\n",
       "      <td>NaN</td>\n",
       "    </tr>\n",
       "    <tr>\n",
       "      <th>2</th>\n",
       "      <td>57.0</td>\n",
       "      <td>male</td>\n",
       "      <td>atypical angina</td>\n",
       "      <td>124</td>\n",
       "      <td>261</td>\n",
       "      <td>no</td>\n",
       "      <td>0</td>\n",
       "      <td>141.0</td>\n",
       "      <td>False</td>\n",
       "      <td>0.3</td>\n",
       "      <td>upsloping</td>\n",
       "      <td>0</td>\n",
       "      <td>reversable defect</td>\n",
       "      <td>present</td>\n",
       "      <td>NaN</td>\n",
       "      <td>NaN</td>\n",
       "    </tr>\n",
       "    <tr>\n",
       "      <th>3</th>\n",
       "      <td>64.0</td>\n",
       "      <td>male</td>\n",
       "      <td>asymptomatic</td>\n",
       "      <td>128</td>\n",
       "      <td>263</td>\n",
       "      <td>no</td>\n",
       "      <td>0</td>\n",
       "      <td>105.0</td>\n",
       "      <td>True</td>\n",
       "      <td>0.2</td>\n",
       "      <td>flat</td>\n",
       "      <td>1</td>\n",
       "      <td>reversable defect</td>\n",
       "      <td>absent</td>\n",
       "      <td>NaN</td>\n",
       "      <td>NaN</td>\n",
       "    </tr>\n",
       "    <tr>\n",
       "      <th>4</th>\n",
       "      <td>74.0</td>\n",
       "      <td>female</td>\n",
       "      <td>atypical angina</td>\n",
       "      <td>120</td>\n",
       "      <td>269</td>\n",
       "      <td>no</td>\n",
       "      <td>2</td>\n",
       "      <td>121.0</td>\n",
       "      <td>True</td>\n",
       "      <td>0.2</td>\n",
       "      <td>upsloping</td>\n",
       "      <td>1</td>\n",
       "      <td>normal</td>\n",
       "      <td>absent</td>\n",
       "      <td>NaN</td>\n",
       "      <td>NaN</td>\n",
       "    </tr>\n",
       "  </tbody>\n",
       "</table>\n",
       "</div>"
      ],
      "text/plain": [
       "    age     sex                cp  trestbps  chol fbs  restecg  thalach  \\\n",
       "0  70.0    male      asymptomatic       130   322  no        2    109.0   \n",
       "1  67.0  female  non-anginal pain       115   564  no        2    160.0   \n",
       "2  57.0    male   atypical angina       124   261  no        0    141.0   \n",
       "3  64.0    male      asymptomatic       128   263  no        0    105.0   \n",
       "4  74.0  female   atypical angina       120   269  no        2    121.0   \n",
       "\n",
       "   exang  oldpeak      slope  ca               thal   status  Unnamed: 14  \\\n",
       "0  False      2.4       flat   3             normal  present          NaN   \n",
       "1  False      1.6       flat   0  reversable defect   absent          NaN   \n",
       "2  False      0.3  upsloping   0  reversable defect  present          NaN   \n",
       "3   True      0.2       flat   1  reversable defect   absent          NaN   \n",
       "4   True      0.2  upsloping   1             normal   absent          NaN   \n",
       "\n",
       "   Unnamed: 15  \n",
       "0          NaN  \n",
       "1          NaN  \n",
       "2          NaN  \n",
       "3          NaN  \n",
       "4          NaN  "
      ]
     },
     "metadata": {},
     "output_type": "display_data"
    }
   ],
   "source": [
    "display(df_north.head())\n",
    "display(df_south.head())\n"
   ]
  },
  {
   "cell_type": "markdown",
   "metadata": {},
   "source": [
    "### Data Information Summary for `df_north` and `df_south`\n",
    "\n",
    "Based on the `.info()` output, both `df_north` and `df_south` DataFrames provide insights into heart disease characteristics across regions, but they vary in row counts, column structures, and missing values.\n",
    "\n",
    "1. **`df_north`**:\n",
    "   - Contains **303 rows** with **14 columns**.\n",
    "   - Column types include `float64`, `int64`, `bool`, and `object`.\n",
    "   - Key columns such as `age`, `trestbps`, and `ca` have some missing values.\n",
    "   \n",
    "\n",
    "2. **`df_south`**:\n",
    "   - Contains **270 rows** with **16 columns** (two additional columns, `Unnamed: 14` and `Unnamed: 15`, which are completely empty).\n",
    "   - Column types are similar, though it has an extra `float64` type due to the additional columns.\n",
    "   - Some columns, such as `age` and `thalach`, also have missing values.\n",
    "\n",
    "Overall, both datasets contain categorical and numerical features crucial for predictive analysis, but missing values and irrelevant empty columns in `df_south` will need cleaning. The analysis may also require alignment in column structures for consistent modeling.\n"
   ]
  },
  {
   "cell_type": "markdown",
   "metadata": {},
   "source": [
    "# Data Consolidation\n",
    "- Concate dataset\n",
    "- Check for data type inconsistencies\n",
    "- Check for duplicates"
   ]
  },
  {
   "cell_type": "markdown",
   "metadata": {},
   "source": [
    "## Concate Datasets"
   ]
  },
  {
   "cell_type": "code",
   "execution_count": 4,
   "metadata": {},
   "outputs": [
    {
     "data": {
      "text/html": [
       "<div>\n",
       "<style scoped>\n",
       "    .dataframe tbody tr th:only-of-type {\n",
       "        vertical-align: middle;\n",
       "    }\n",
       "\n",
       "    .dataframe tbody tr th {\n",
       "        vertical-align: top;\n",
       "    }\n",
       "\n",
       "    .dataframe thead th {\n",
       "        text-align: right;\n",
       "    }\n",
       "</style>\n",
       "<table border=\"1\" class=\"dataframe\">\n",
       "  <thead>\n",
       "    <tr style=\"text-align: right;\">\n",
       "      <th></th>\n",
       "      <th>age</th>\n",
       "      <th>sex</th>\n",
       "      <th>cp</th>\n",
       "      <th>trestbps</th>\n",
       "      <th>chol</th>\n",
       "      <th>fbs</th>\n",
       "      <th>restecg</th>\n",
       "      <th>thalach</th>\n",
       "      <th>exang</th>\n",
       "      <th>oldpeak</th>\n",
       "      <th>slope</th>\n",
       "      <th>ca</th>\n",
       "      <th>thal</th>\n",
       "      <th>status</th>\n",
       "      <th>Unnamed: 14</th>\n",
       "      <th>Unnamed: 15</th>\n",
       "    </tr>\n",
       "  </thead>\n",
       "  <tbody>\n",
       "    <tr>\n",
       "      <th>0</th>\n",
       "      <td>63.0</td>\n",
       "      <td>male</td>\n",
       "      <td>typical angina</td>\n",
       "      <td>145.0</td>\n",
       "      <td>233</td>\n",
       "      <td>True</td>\n",
       "      <td>2</td>\n",
       "      <td>150.0</td>\n",
       "      <td>no</td>\n",
       "      <td>2.3</td>\n",
       "      <td>downsloping</td>\n",
       "      <td>0.0</td>\n",
       "      <td>fixed defect</td>\n",
       "      <td>absent</td>\n",
       "      <td>NaN</td>\n",
       "      <td>NaN</td>\n",
       "    </tr>\n",
       "    <tr>\n",
       "      <th>1</th>\n",
       "      <td>67.0</td>\n",
       "      <td>male</td>\n",
       "      <td>asymptomatic</td>\n",
       "      <td>160.0</td>\n",
       "      <td>286</td>\n",
       "      <td>False</td>\n",
       "      <td>2</td>\n",
       "      <td>108.0</td>\n",
       "      <td>yes</td>\n",
       "      <td>1.5</td>\n",
       "      <td>flat</td>\n",
       "      <td>3.0</td>\n",
       "      <td>normal</td>\n",
       "      <td>present</td>\n",
       "      <td>NaN</td>\n",
       "      <td>NaN</td>\n",
       "    </tr>\n",
       "    <tr>\n",
       "      <th>2</th>\n",
       "      <td>67.0</td>\n",
       "      <td>male</td>\n",
       "      <td>asymptomatic</td>\n",
       "      <td>120.0</td>\n",
       "      <td>229</td>\n",
       "      <td>False</td>\n",
       "      <td>2</td>\n",
       "      <td>129.0</td>\n",
       "      <td>yes</td>\n",
       "      <td>2.6</td>\n",
       "      <td>flat</td>\n",
       "      <td>2.0</td>\n",
       "      <td>reversable defect</td>\n",
       "      <td>present</td>\n",
       "      <td>NaN</td>\n",
       "      <td>NaN</td>\n",
       "    </tr>\n",
       "    <tr>\n",
       "      <th>3</th>\n",
       "      <td>37.0</td>\n",
       "      <td>male</td>\n",
       "      <td>non-anginal pain</td>\n",
       "      <td>130.0</td>\n",
       "      <td>250</td>\n",
       "      <td>False</td>\n",
       "      <td>0</td>\n",
       "      <td>187.0</td>\n",
       "      <td>no</td>\n",
       "      <td>3.5</td>\n",
       "      <td>downsloping</td>\n",
       "      <td>0.0</td>\n",
       "      <td>normal</td>\n",
       "      <td>absent</td>\n",
       "      <td>NaN</td>\n",
       "      <td>NaN</td>\n",
       "    </tr>\n",
       "    <tr>\n",
       "      <th>4</th>\n",
       "      <td>41.0</td>\n",
       "      <td>female</td>\n",
       "      <td>atypical angina</td>\n",
       "      <td>130.0</td>\n",
       "      <td>204</td>\n",
       "      <td>False</td>\n",
       "      <td>2</td>\n",
       "      <td>172.0</td>\n",
       "      <td>no</td>\n",
       "      <td>1.4</td>\n",
       "      <td>upsloping</td>\n",
       "      <td>0.0</td>\n",
       "      <td>normal</td>\n",
       "      <td>absent</td>\n",
       "      <td>NaN</td>\n",
       "      <td>NaN</td>\n",
       "    </tr>\n",
       "  </tbody>\n",
       "</table>\n",
       "</div>"
      ],
      "text/plain": [
       "    age     sex                cp  trestbps  chol    fbs  restecg  thalach  \\\n",
       "0  63.0    male    typical angina     145.0   233   True        2    150.0   \n",
       "1  67.0    male      asymptomatic     160.0   286  False        2    108.0   \n",
       "2  67.0    male      asymptomatic     120.0   229  False        2    129.0   \n",
       "3  37.0    male  non-anginal pain     130.0   250  False        0    187.0   \n",
       "4  41.0  female   atypical angina     130.0   204  False        2    172.0   \n",
       "\n",
       "  exang  oldpeak        slope   ca                thal   status  Unnamed: 14  \\\n",
       "0    no      2.3  downsloping  0.0        fixed defect   absent          NaN   \n",
       "1   yes      1.5         flat  3.0              normal  present          NaN   \n",
       "2   yes      2.6         flat  2.0  reversable defect   present          NaN   \n",
       "3    no      3.5  downsloping  0.0              normal   absent          NaN   \n",
       "4    no      1.4    upsloping  0.0              normal   absent          NaN   \n",
       "\n",
       "   Unnamed: 15  \n",
       "0          NaN  \n",
       "1          NaN  \n",
       "2          NaN  \n",
       "3          NaN  \n",
       "4          NaN  "
      ]
     },
     "metadata": {},
     "output_type": "display_data"
    }
   ],
   "source": [
    "combined_df = pd.concat([df_north, df_south], axis=0)\n",
    "display(combined_df.head())\n"
   ]
  },
  {
   "cell_type": "markdown",
   "metadata": {},
   "source": [
    "## Check for Data type Inconsistencies"
   ]
  },
  {
   "cell_type": "code",
   "execution_count": 5,
   "metadata": {},
   "outputs": [
    {
     "name": "stdout",
     "output_type": "stream",
     "text": [
      "<class 'pandas.core.frame.DataFrame'>\n",
      "Int64Index: 573 entries, 0 to 269\n",
      "Data columns (total 16 columns):\n",
      " #   Column       Non-Null Count  Dtype  \n",
      "---  ------       --------------  -----  \n",
      " 0   age          569 non-null    float64\n",
      " 1   sex          573 non-null    object \n",
      " 2   cp           573 non-null    object \n",
      " 3   trestbps     572 non-null    float64\n",
      " 4   chol         573 non-null    int64  \n",
      " 5   fbs          573 non-null    object \n",
      " 6   restecg      573 non-null    int64  \n",
      " 7   thalach      570 non-null    float64\n",
      " 8   exang        573 non-null    object \n",
      " 9   oldpeak      573 non-null    float64\n",
      " 10  slope        573 non-null    object \n",
      " 11  ca           569 non-null    float64\n",
      " 12  thal         571 non-null    object \n",
      " 13  status       573 non-null    object \n",
      " 14  Unnamed: 14  0 non-null      float64\n",
      " 15  Unnamed: 15  0 non-null      float64\n",
      "dtypes: float64(7), int64(2), object(7)\n",
      "memory usage: 76.1+ KB\n"
     ]
    }
   ],
   "source": [
    "combined_df.info()\n"
   ]
  },
  {
   "cell_type": "markdown",
   "metadata": {},
   "source": [
    "The `Unnamed: 14` and `Unnamed: 15` Features don't contain any useful contents therefore we would need to drop it in the data cleaning stage.\n"
   ]
  },
  {
   "cell_type": "markdown",
   "metadata": {},
   "source": [
    "## Check for Duplicates Values\n"
   ]
  },
  {
   "cell_type": "code",
   "execution_count": 6,
   "metadata": {},
   "outputs": [
    {
     "data": {
      "text/plain": [
       "0"
      ]
     },
     "execution_count": 6,
     "metadata": {},
     "output_type": "execute_result"
    }
   ],
   "source": [
    "combined_df.duplicated().sum()"
   ]
  },
  {
   "cell_type": "markdown",
   "metadata": {},
   "source": [
    "There are no duplicate values present in our dataset."
   ]
  },
  {
   "cell_type": "markdown",
   "metadata": {},
   "source": [
    "# Data Cleaning\n",
    "- Drop unwanted features\n",
    "- Address Datatypes Inconsistencies\n",
    "- Addressing Missing data\n",
    "- Outlier Detection"
   ]
  },
  {
   "cell_type": "markdown",
   "metadata": {},
   "source": [
    "## Drop unwanted Features\n"
   ]
  },
  {
   "cell_type": "code",
   "execution_count": 7,
   "metadata": {},
   "outputs": [
    {
     "data": {
      "text/html": [
       "<div>\n",
       "<style scoped>\n",
       "    .dataframe tbody tr th:only-of-type {\n",
       "        vertical-align: middle;\n",
       "    }\n",
       "\n",
       "    .dataframe tbody tr th {\n",
       "        vertical-align: top;\n",
       "    }\n",
       "\n",
       "    .dataframe thead th {\n",
       "        text-align: right;\n",
       "    }\n",
       "</style>\n",
       "<table border=\"1\" class=\"dataframe\">\n",
       "  <thead>\n",
       "    <tr style=\"text-align: right;\">\n",
       "      <th></th>\n",
       "      <th>age</th>\n",
       "      <th>sex</th>\n",
       "      <th>cp</th>\n",
       "      <th>trestbps</th>\n",
       "      <th>chol</th>\n",
       "      <th>fbs</th>\n",
       "      <th>restecg</th>\n",
       "      <th>thalach</th>\n",
       "      <th>exang</th>\n",
       "      <th>oldpeak</th>\n",
       "      <th>slope</th>\n",
       "      <th>ca</th>\n",
       "      <th>thal</th>\n",
       "      <th>status</th>\n",
       "    </tr>\n",
       "  </thead>\n",
       "  <tbody>\n",
       "    <tr>\n",
       "      <th>0</th>\n",
       "      <td>63.0</td>\n",
       "      <td>male</td>\n",
       "      <td>typical angina</td>\n",
       "      <td>145.0</td>\n",
       "      <td>233</td>\n",
       "      <td>True</td>\n",
       "      <td>2</td>\n",
       "      <td>150.0</td>\n",
       "      <td>no</td>\n",
       "      <td>2.3</td>\n",
       "      <td>downsloping</td>\n",
       "      <td>0.0</td>\n",
       "      <td>fixed defect</td>\n",
       "      <td>absent</td>\n",
       "    </tr>\n",
       "    <tr>\n",
       "      <th>1</th>\n",
       "      <td>67.0</td>\n",
       "      <td>male</td>\n",
       "      <td>asymptomatic</td>\n",
       "      <td>160.0</td>\n",
       "      <td>286</td>\n",
       "      <td>False</td>\n",
       "      <td>2</td>\n",
       "      <td>108.0</td>\n",
       "      <td>yes</td>\n",
       "      <td>1.5</td>\n",
       "      <td>flat</td>\n",
       "      <td>3.0</td>\n",
       "      <td>normal</td>\n",
       "      <td>present</td>\n",
       "    </tr>\n",
       "    <tr>\n",
       "      <th>2</th>\n",
       "      <td>67.0</td>\n",
       "      <td>male</td>\n",
       "      <td>asymptomatic</td>\n",
       "      <td>120.0</td>\n",
       "      <td>229</td>\n",
       "      <td>False</td>\n",
       "      <td>2</td>\n",
       "      <td>129.0</td>\n",
       "      <td>yes</td>\n",
       "      <td>2.6</td>\n",
       "      <td>flat</td>\n",
       "      <td>2.0</td>\n",
       "      <td>reversable defect</td>\n",
       "      <td>present</td>\n",
       "    </tr>\n",
       "    <tr>\n",
       "      <th>3</th>\n",
       "      <td>37.0</td>\n",
       "      <td>male</td>\n",
       "      <td>non-anginal pain</td>\n",
       "      <td>130.0</td>\n",
       "      <td>250</td>\n",
       "      <td>False</td>\n",
       "      <td>0</td>\n",
       "      <td>187.0</td>\n",
       "      <td>no</td>\n",
       "      <td>3.5</td>\n",
       "      <td>downsloping</td>\n",
       "      <td>0.0</td>\n",
       "      <td>normal</td>\n",
       "      <td>absent</td>\n",
       "    </tr>\n",
       "    <tr>\n",
       "      <th>4</th>\n",
       "      <td>41.0</td>\n",
       "      <td>female</td>\n",
       "      <td>atypical angina</td>\n",
       "      <td>130.0</td>\n",
       "      <td>204</td>\n",
       "      <td>False</td>\n",
       "      <td>2</td>\n",
       "      <td>172.0</td>\n",
       "      <td>no</td>\n",
       "      <td>1.4</td>\n",
       "      <td>upsloping</td>\n",
       "      <td>0.0</td>\n",
       "      <td>normal</td>\n",
       "      <td>absent</td>\n",
       "    </tr>\n",
       "  </tbody>\n",
       "</table>\n",
       "</div>"
      ],
      "text/plain": [
       "    age     sex                cp  trestbps  chol    fbs  restecg  thalach  \\\n",
       "0  63.0    male    typical angina     145.0   233   True        2    150.0   \n",
       "1  67.0    male      asymptomatic     160.0   286  False        2    108.0   \n",
       "2  67.0    male      asymptomatic     120.0   229  False        2    129.0   \n",
       "3  37.0    male  non-anginal pain     130.0   250  False        0    187.0   \n",
       "4  41.0  female   atypical angina     130.0   204  False        2    172.0   \n",
       "\n",
       "  exang  oldpeak        slope   ca                thal   status  \n",
       "0    no      2.3  downsloping  0.0        fixed defect   absent  \n",
       "1   yes      1.5         flat  3.0              normal  present  \n",
       "2   yes      2.6         flat  2.0  reversable defect   present  \n",
       "3    no      3.5  downsloping  0.0              normal   absent  \n",
       "4    no      1.4    upsloping  0.0              normal   absent  "
      ]
     },
     "execution_count": 7,
     "metadata": {},
     "output_type": "execute_result"
    }
   ],
   "source": [
    "combined_df.drop(columns = ['Unnamed: 14', 'Unnamed: 15'], axis = 1, inplace = True)\n",
    "combined_df.head()"
   ]
  },
  {
   "cell_type": "markdown",
   "metadata": {},
   "source": [
    "## Missing Values"
   ]
  },
  {
   "cell_type": "code",
   "execution_count": 8,
   "metadata": {},
   "outputs": [
    {
     "data": {
      "text/plain": [
       "age         4\n",
       "sex         0\n",
       "cp          0\n",
       "trestbps    1\n",
       "chol        0\n",
       "fbs         0\n",
       "restecg     0\n",
       "thalach     3\n",
       "exang       0\n",
       "oldpeak     0\n",
       "slope       0\n",
       "ca          4\n",
       "thal        2\n",
       "status      0\n",
       "dtype: int64"
      ]
     },
     "execution_count": 8,
     "metadata": {},
     "output_type": "execute_result"
    }
   ],
   "source": [
    "combined_df.isna().sum()"
   ]
  },
  {
   "cell_type": "code",
   "execution_count": 9,
   "metadata": {},
   "outputs": [
    {
     "data": {
      "text/plain": [
       "age         0\n",
       "sex         0\n",
       "cp          0\n",
       "trestbps    0\n",
       "chol        0\n",
       "fbs         0\n",
       "restecg     0\n",
       "thalach     0\n",
       "exang       0\n",
       "oldpeak     0\n",
       "slope       0\n",
       "ca          0\n",
       "thal        0\n",
       "status      0\n",
       "dtype: int64"
      ]
     },
     "execution_count": 9,
     "metadata": {},
     "output_type": "execute_result"
    }
   ],
   "source": [
    "# Impute missing values for each column\n",
    "# Age\n",
    "combined_df['age'].fillna(combined_df['age'].median(), inplace=True)\n",
    "\n",
    "# Trestbps\n",
    "combined_df['trestbps'].fillna(combined_df['trestbps'].median(), inplace=True)\n",
    "\n",
    "# Thalach\n",
    "combined_df['thalach'].fillna(combined_df['thalach'].median(), inplace=True)\n",
    "\n",
    "# CA (mode)\n",
    "combined_df['ca'].fillna(combined_df['ca'].mode()[0], inplace=True)\n",
    "\n",
    "# Thal (mode)\n",
    "combined_df['thal'].fillna(combined_df['thal'].mode()[0], inplace=True)\n",
    "combined_df.isna().sum()"
   ]
  },
  {
   "cell_type": "markdown",
   "metadata": {},
   "source": [
    "## Address Data type Inconsistencies"
   ]
  },
  {
   "cell_type": "code",
   "execution_count": 10,
   "metadata": {},
   "outputs": [
    {
     "name": "stdout",
     "output_type": "stream",
     "text": [
      "<class 'pandas.core.frame.DataFrame'>\n",
      "Int64Index: 573 entries, 0 to 269\n",
      "Data columns (total 14 columns):\n",
      " #   Column    Non-Null Count  Dtype  \n",
      "---  ------    --------------  -----  \n",
      " 0   age       573 non-null    int32  \n",
      " 1   sex       573 non-null    object \n",
      " 2   cp        573 non-null    object \n",
      " 3   trestbps  573 non-null    int32  \n",
      " 4   chol      573 non-null    int64  \n",
      " 5   fbs       573 non-null    object \n",
      " 6   restecg   573 non-null    object \n",
      " 7   thalach   573 non-null    int32  \n",
      " 8   exang     573 non-null    object \n",
      " 9   oldpeak   573 non-null    float64\n",
      " 10  slope     573 non-null    object \n",
      " 11  ca        573 non-null    int32  \n",
      " 12  thal      573 non-null    object \n",
      " 13  status    573 non-null    object \n",
      "dtypes: float64(1), int32(4), int64(1), object(8)\n",
      "memory usage: 58.2+ KB\n"
     ]
    }
   ],
   "source": [
    "# Convert columns to appropriate data types\n",
    "\n",
    "# Convert 'age' to categorical\n",
    "combined_df['age'] = combined_df['age'].astype('int')\n",
    "\n",
    "\n",
    "# Convert 'trestbps' (Resting blood pressure) to integer\n",
    "combined_df['trestbps'] = combined_df['trestbps'].astype('int')\n",
    "\n",
    "# Convert 'restecg' (Resting blood pressure) to integer\n",
    "combined_df['restecg'] = combined_df['restecg'].astype(str)\n",
    "\n",
    "# Convert 'thalach' (Resting blood pressure) to integer\n",
    "combined_df['thalach'] = combined_df['thalach'].astype('int')\n",
    "\n",
    "combined_df['ca'] = combined_df['ca'].astype('int')\n",
    "combined_df.info()"
   ]
  },
  {
   "cell_type": "markdown",
   "metadata": {},
   "source": [
    "## Outlier Detection"
   ]
  },
  {
   "cell_type": "code",
   "execution_count": 11,
   "metadata": {},
   "outputs": [
    {
     "data": {
      "text/plain": [
       "age        -0.188499\n",
       "trestbps    0.712252\n",
       "chol        1.153514\n",
       "thalach    -0.541924\n",
       "oldpeak     1.263116\n",
       "ca          1.206261\n",
       "dtype: float64"
      ]
     },
     "execution_count": 11,
     "metadata": {},
     "output_type": "execute_result"
    }
   ],
   "source": [
    "combined_df.select_dtypes('number').skew()"
   ]
  },
  {
   "cell_type": "markdown",
   "metadata": {},
   "source": [
    "trestbps (0.712252): Moderate positive skew; We consider adjusting.\n",
    "chol (1.153514): High positive skew; likely requires adjustment.\n",
    "oldpeak (1.263116): High positive skew; likely requires adjustment."
   ]
  },
  {
   "cell_type": "code",
   "execution_count": 12,
   "metadata": {},
   "outputs": [
    {
     "data": {
      "text/html": [
       "<div>\n",
       "<style scoped>\n",
       "    .dataframe tbody tr th:only-of-type {\n",
       "        vertical-align: middle;\n",
       "    }\n",
       "\n",
       "    .dataframe tbody tr th {\n",
       "        vertical-align: top;\n",
       "    }\n",
       "\n",
       "    .dataframe thead th {\n",
       "        text-align: right;\n",
       "    }\n",
       "</style>\n",
       "<table border=\"1\" class=\"dataframe\">\n",
       "  <thead>\n",
       "    <tr style=\"text-align: right;\">\n",
       "      <th></th>\n",
       "      <th>age</th>\n",
       "      <th>chol</th>\n",
       "      <th>ca</th>\n",
       "      <th>thalach</th>\n",
       "      <th>oldpeak</th>\n",
       "      <th>trestbps</th>\n",
       "    </tr>\n",
       "  </thead>\n",
       "  <tbody>\n",
       "    <tr>\n",
       "      <th>0</th>\n",
       "      <td>63</td>\n",
       "      <td>233</td>\n",
       "      <td>0</td>\n",
       "      <td>150</td>\n",
       "      <td>2.3</td>\n",
       "      <td>145</td>\n",
       "    </tr>\n",
       "    <tr>\n",
       "      <th>1</th>\n",
       "      <td>67</td>\n",
       "      <td>286</td>\n",
       "      <td>3</td>\n",
       "      <td>108</td>\n",
       "      <td>1.5</td>\n",
       "      <td>160</td>\n",
       "    </tr>\n",
       "    <tr>\n",
       "      <th>2</th>\n",
       "      <td>67</td>\n",
       "      <td>229</td>\n",
       "      <td>2</td>\n",
       "      <td>129</td>\n",
       "      <td>2.6</td>\n",
       "      <td>120</td>\n",
       "    </tr>\n",
       "    <tr>\n",
       "      <th>3</th>\n",
       "      <td>37</td>\n",
       "      <td>250</td>\n",
       "      <td>0</td>\n",
       "      <td>187</td>\n",
       "      <td>3.5</td>\n",
       "      <td>130</td>\n",
       "    </tr>\n",
       "    <tr>\n",
       "      <th>4</th>\n",
       "      <td>41</td>\n",
       "      <td>204</td>\n",
       "      <td>0</td>\n",
       "      <td>172</td>\n",
       "      <td>1.4</td>\n",
       "      <td>130</td>\n",
       "    </tr>\n",
       "  </tbody>\n",
       "</table>\n",
       "</div>"
      ],
      "text/plain": [
       "   age  chol  ca  thalach  oldpeak  trestbps\n",
       "0   63   233   0      150      2.3       145\n",
       "1   67   286   3      108      1.5       160\n",
       "2   67   229   2      129      2.6       120\n",
       "3   37   250   0      187      3.5       130\n",
       "4   41   204   0      172      1.4       130"
      ]
     },
     "execution_count": 12,
     "metadata": {},
     "output_type": "execute_result"
    }
   ],
   "source": [
    "combined_df[['age', 'chol', 'ca', 'thalach', 'oldpeak', 'trestbps']].head()"
   ]
  },
  {
   "cell_type": "code",
   "execution_count": 13,
   "metadata": {},
   "outputs": [
    {
     "data": {
      "image/png": "[encoded data removed]",
      "text/plain": [
       "<Figure size 1200x800 with 6 Axes>"
      ]
     },
     "metadata": {},
     "output_type": "display_data"
    }
   ],
   "source": [
    "# Define the columns to visualize\n",
    "columns_to_plot = ['age', 'chol', 'ca', 'thalach', 'oldpeak', 'trestbps']\n",
    "\n",
    "# Set up the matplotlib figure\n",
    "plt.figure(figsize=(12, 8))\n",
    "\n",
    "# Plot each feature as a boxplot\n",
    "for i, column in enumerate(columns_to_plot, 1):\n",
    "    plt.subplot(2, 3, i)  # Adjust the grid if needed (e.g., 2x3 layout for 6 plots)\n",
    "    sns.boxplot(y=combined_df[column])\n",
    "    plt.title(f'Boxplot of {column}')\n",
    "\n",
    "plt.tight_layout()\n",
    "plt.show()\n"
   ]
  },
  {
   "cell_type": "markdown",
   "metadata": {},
   "source": [
    "## Apply Log Transform to Address Outlier"
   ]
  },
  {
   "cell_type": "code",
   "execution_count": 14,
   "metadata": {},
   "outputs": [
    {
     "data": {
      "text/plain": [
       "age        -0.188499\n",
       "trestbps    0.286174\n",
       "chol        0.085365\n",
       "thalach    -0.541924\n",
       "oldpeak     0.374041\n",
       "ca          1.206261\n",
       "dtype: float64"
      ]
     },
     "execution_count": 14,
     "metadata": {},
     "output_type": "execute_result"
    }
   ],
   "source": [
    "combined_df['trestbps'] = np.log(combined_df['trestbps'] + 1)\n",
    "combined_df['oldpeak'] = np.log(combined_df['oldpeak'] + 1)\n",
    "combined_df['chol'] = np.log(combined_df['chol'] + 1)\n",
    "combined_df.select_dtypes('number').skew()"
   ]
  },
  {
   "cell_type": "code",
   "execution_count": 15,
   "metadata": {},
   "outputs": [
    {
     "data": {
      "image/png": "[encoded data removed]",
      "text/plain": [
       "<Figure size 1200x800 with 6 Axes>"
      ]
     },
     "metadata": {},
     "output_type": "display_data"
    }
   ],
   "source": [
    "# Define the columns to visualize\n",
    "columns_to_plot = ['age', 'chol', 'ca', 'thalach', 'oldpeak', 'trestbps']\n",
    "\n",
    "# Set up the matplotlib figure\n",
    "plt.figure(figsize=(12, 8))\n",
    "\n",
    "# Plot each feature as a boxplot\n",
    "for i, column in enumerate(columns_to_plot, 1):\n",
    "    plt.subplot(2, 3, i)  # Adjust the grid if needed (e.g., 2x3 layout for 6 plots)\n",
    "    sns.boxplot(y=combined_df[column])\n",
    "    plt.title(f'Boxplot of {column}')\n",
    "\n",
    "plt.tight_layout()\n",
    "plt.show()\n"
   ]
  },
  {
   "cell_type": "markdown",
   "metadata": {},
   "source": [
    "# Feature Engineering\n",
    "- Categorical Encoding\n",
    "- Scaling Numerical Features"
   ]
  },
  {
   "cell_type": "code",
   "execution_count": 16,
   "metadata": {},
   "outputs": [
    {
     "name": "stdout",
     "output_type": "stream",
     "text": [
      "<class 'pandas.core.frame.DataFrame'>\n",
      "Int64Index: 573 entries, 0 to 269\n",
      "Data columns (total 14 columns):\n",
      " #   Column    Non-Null Count  Dtype  \n",
      "---  ------    --------------  -----  \n",
      " 0   age       573 non-null    int32  \n",
      " 1   sex       573 non-null    object \n",
      " 2   cp        573 non-null    object \n",
      " 3   trestbps  573 non-null    float64\n",
      " 4   chol      573 non-null    float64\n",
      " 5   fbs       573 non-null    object \n",
      " 6   restecg   573 non-null    object \n",
      " 7   thalach   573 non-null    int32  \n",
      " 8   exang     573 non-null    object \n",
      " 9   oldpeak   573 non-null    float64\n",
      " 10  slope     573 non-null    object \n",
      " 11  ca        573 non-null    int32  \n",
      " 12  thal      573 non-null    object \n",
      " 13  status    573 non-null    object \n",
      "dtypes: float64(3), int32(3), object(8)\n",
      "memory usage: 60.4+ KB\n"
     ]
    }
   ],
   "source": [
    "combined_df.info()"
   ]
  },
  {
   "cell_type": "code",
   "execution_count": 17,
   "metadata": {},
   "outputs": [],
   "source": [
    "combined_df['fbs'] = combined_df['fbs'].replace({True: 'yes', False: 'no'})\n",
    "combined_df['exang'] = combined_df['exang'].replace({True : 'yes', False : 'no'})\n",
    "\n"
   ]
  },
  {
   "cell_type": "markdown",
   "metadata": {},
   "source": [
    "## Categorical Encoding"
   ]
  },
  {
   "cell_type": "code",
   "execution_count": 18,
   "metadata": {},
   "outputs": [
    {
     "data": {
      "text/html": [
       "<div>\n",
       "<style scoped>\n",
       "    .dataframe tbody tr th:only-of-type {\n",
       "        vertical-align: middle;\n",
       "    }\n",
       "\n",
       "    .dataframe tbody tr th {\n",
       "        vertical-align: top;\n",
       "    }\n",
       "\n",
       "    .dataframe thead th {\n",
       "        text-align: right;\n",
       "    }\n",
       "</style>\n",
       "<table border=\"1\" class=\"dataframe\">\n",
       "  <thead>\n",
       "    <tr style=\"text-align: right;\">\n",
       "      <th></th>\n",
       "      <th>age</th>\n",
       "      <th>sex</th>\n",
       "      <th>cp</th>\n",
       "      <th>trestbps</th>\n",
       "      <th>chol</th>\n",
       "      <th>fbs</th>\n",
       "      <th>restecg</th>\n",
       "      <th>thalach</th>\n",
       "      <th>exang</th>\n",
       "      <th>oldpeak</th>\n",
       "      <th>slope</th>\n",
       "      <th>ca</th>\n",
       "      <th>thal</th>\n",
       "      <th>status</th>\n",
       "    </tr>\n",
       "  </thead>\n",
       "  <tbody>\n",
       "    <tr>\n",
       "      <th>0</th>\n",
       "      <td>63</td>\n",
       "      <td>1</td>\n",
       "      <td>typical angina</td>\n",
       "      <td>4.983607</td>\n",
       "      <td>5.455321</td>\n",
       "      <td>1</td>\n",
       "      <td>2</td>\n",
       "      <td>150</td>\n",
       "      <td>0</td>\n",
       "      <td>1.193922</td>\n",
       "      <td>downsloping</td>\n",
       "      <td>0</td>\n",
       "      <td>fixed defect</td>\n",
       "      <td>0</td>\n",
       "    </tr>\n",
       "    <tr>\n",
       "      <th>1</th>\n",
       "      <td>67</td>\n",
       "      <td>1</td>\n",
       "      <td>asymptomatic</td>\n",
       "      <td>5.081404</td>\n",
       "      <td>5.659482</td>\n",
       "      <td>0</td>\n",
       "      <td>2</td>\n",
       "      <td>108</td>\n",
       "      <td>1</td>\n",
       "      <td>0.916291</td>\n",
       "      <td>flat</td>\n",
       "      <td>3</td>\n",
       "      <td>normal</td>\n",
       "      <td>1</td>\n",
       "    </tr>\n",
       "    <tr>\n",
       "      <th>2</th>\n",
       "      <td>67</td>\n",
       "      <td>1</td>\n",
       "      <td>asymptomatic</td>\n",
       "      <td>4.795791</td>\n",
       "      <td>5.438079</td>\n",
       "      <td>0</td>\n",
       "      <td>2</td>\n",
       "      <td>129</td>\n",
       "      <td>1</td>\n",
       "      <td>1.280934</td>\n",
       "      <td>flat</td>\n",
       "      <td>2</td>\n",
       "      <td>reversable defect</td>\n",
       "      <td>1</td>\n",
       "    </tr>\n",
       "    <tr>\n",
       "      <th>3</th>\n",
       "      <td>37</td>\n",
       "      <td>1</td>\n",
       "      <td>non-anginal pain</td>\n",
       "      <td>4.875197</td>\n",
       "      <td>5.525453</td>\n",
       "      <td>0</td>\n",
       "      <td>0</td>\n",
       "      <td>187</td>\n",
       "      <td>0</td>\n",
       "      <td>1.504077</td>\n",
       "      <td>downsloping</td>\n",
       "      <td>0</td>\n",
       "      <td>normal</td>\n",
       "      <td>0</td>\n",
       "    </tr>\n",
       "    <tr>\n",
       "      <th>4</th>\n",
       "      <td>41</td>\n",
       "      <td>0</td>\n",
       "      <td>atypical angina</td>\n",
       "      <td>4.875197</td>\n",
       "      <td>5.323010</td>\n",
       "      <td>0</td>\n",
       "      <td>2</td>\n",
       "      <td>172</td>\n",
       "      <td>0</td>\n",
       "      <td>0.875469</td>\n",
       "      <td>upsloping</td>\n",
       "      <td>0</td>\n",
       "      <td>normal</td>\n",
       "      <td>0</td>\n",
       "    </tr>\n",
       "  </tbody>\n",
       "</table>\n",
       "</div>"
      ],
      "text/plain": [
       "   age  sex                cp  trestbps      chol  fbs restecg  thalach  \\\n",
       "0   63    1    typical angina  4.983607  5.455321    1       2      150   \n",
       "1   67    1      asymptomatic  5.081404  5.659482    0       2      108   \n",
       "2   67    1      asymptomatic  4.795791  5.438079    0       2      129   \n",
       "3   37    1  non-anginal pain  4.875197  5.525453    0       0      187   \n",
       "4   41    0   atypical angina  4.875197  5.323010    0       2      172   \n",
       "\n",
       "   exang   oldpeak        slope  ca                thal  status  \n",
       "0      0  1.193922  downsloping   0        fixed defect       0  \n",
       "1      1  0.916291         flat   3              normal       1  \n",
       "2      1  1.280934         flat   2  reversable defect        1  \n",
       "3      0  1.504077  downsloping   0              normal       0  \n",
       "4      0  0.875469    upsloping   0              normal       0  "
      ]
     },
     "execution_count": 18,
     "metadata": {},
     "output_type": "execute_result"
    }
   ],
   "source": [
    "# Label Encoding for binary categorical variables\n",
    "label_encoder = LabelEncoder()\n",
    "combined_df['sex'] = label_encoder.fit_transform(combined_df['sex'])\n",
    "combined_df['exang'] = label_encoder.fit_transform(combined_df['exang'])\n",
    "combined_df['status'] = label_encoder.fit_transform(combined_df['status'])\n",
    "combined_df['fbs'] = label_encoder.fit_transform(combined_df['fbs'])\n",
    "combined_df.head()"
   ]
  },
  {
   "cell_type": "code",
   "execution_count": 19,
   "metadata": {},
   "outputs": [
    {
     "data": {
      "text/html": [
       "<div>\n",
       "<style scoped>\n",
       "    .dataframe tbody tr th:only-of-type {\n",
       "        vertical-align: middle;\n",
       "    }\n",
       "\n",
       "    .dataframe tbody tr th {\n",
       "        vertical-align: top;\n",
       "    }\n",
       "\n",
       "    .dataframe thead th {\n",
       "        text-align: right;\n",
       "    }\n",
       "</style>\n",
       "<table border=\"1\" class=\"dataframe\">\n",
       "  <thead>\n",
       "    <tr style=\"text-align: right;\">\n",
       "      <th></th>\n",
       "      <th>age</th>\n",
       "      <th>sex</th>\n",
       "      <th>trestbps</th>\n",
       "      <th>chol</th>\n",
       "      <th>fbs</th>\n",
       "      <th>restecg</th>\n",
       "      <th>thalach</th>\n",
       "      <th>exang</th>\n",
       "      <th>oldpeak</th>\n",
       "      <th>ca</th>\n",
       "      <th>status</th>\n",
       "      <th>cp_atypical angina</th>\n",
       "      <th>cp_non-anginal pain</th>\n",
       "      <th>cp_typical angina</th>\n",
       "      <th>slope_flat</th>\n",
       "      <th>slope_upsloping</th>\n",
       "      <th>thal_normal</th>\n",
       "      <th>thal_reversable defect</th>\n",
       "      <th>thal_reversable defect</th>\n",
       "    </tr>\n",
       "  </thead>\n",
       "  <tbody>\n",
       "    <tr>\n",
       "      <th>0</th>\n",
       "      <td>63</td>\n",
       "      <td>1</td>\n",
       "      <td>4.983607</td>\n",
       "      <td>5.455321</td>\n",
       "      <td>1</td>\n",
       "      <td>2</td>\n",
       "      <td>150</td>\n",
       "      <td>0</td>\n",
       "      <td>1.193922</td>\n",
       "      <td>0</td>\n",
       "      <td>0</td>\n",
       "      <td>0</td>\n",
       "      <td>0</td>\n",
       "      <td>1</td>\n",
       "      <td>0</td>\n",
       "      <td>0</td>\n",
       "      <td>0</td>\n",
       "      <td>0</td>\n",
       "      <td>0</td>\n",
       "    </tr>\n",
       "    <tr>\n",
       "      <th>1</th>\n",
       "      <td>67</td>\n",
       "      <td>1</td>\n",
       "      <td>5.081404</td>\n",
       "      <td>5.659482</td>\n",
       "      <td>0</td>\n",
       "      <td>2</td>\n",
       "      <td>108</td>\n",
       "      <td>1</td>\n",
       "      <td>0.916291</td>\n",
       "      <td>3</td>\n",
       "      <td>1</td>\n",
       "      <td>0</td>\n",
       "      <td>0</td>\n",
       "      <td>0</td>\n",
       "      <td>1</td>\n",
       "      <td>0</td>\n",
       "      <td>1</td>\n",
       "      <td>0</td>\n",
       "      <td>0</td>\n",
       "    </tr>\n",
       "    <tr>\n",
       "      <th>2</th>\n",
       "      <td>67</td>\n",
       "      <td>1</td>\n",
       "      <td>4.795791</td>\n",
       "      <td>5.438079</td>\n",
       "      <td>0</td>\n",
       "      <td>2</td>\n",
       "      <td>129</td>\n",
       "      <td>1</td>\n",
       "      <td>1.280934</td>\n",
       "      <td>2</td>\n",
       "      <td>1</td>\n",
       "      <td>0</td>\n",
       "      <td>0</td>\n",
       "      <td>0</td>\n",
       "      <td>1</td>\n",
       "      <td>0</td>\n",
       "      <td>0</td>\n",
       "      <td>0</td>\n",
       "      <td>1</td>\n",
       "    </tr>\n",
       "    <tr>\n",
       "      <th>3</th>\n",
       "      <td>37</td>\n",
       "      <td>1</td>\n",
       "      <td>4.875197</td>\n",
       "      <td>5.525453</td>\n",
       "      <td>0</td>\n",
       "      <td>0</td>\n",
       "      <td>187</td>\n",
       "      <td>0</td>\n",
       "      <td>1.504077</td>\n",
       "      <td>0</td>\n",
       "      <td>0</td>\n",
       "      <td>0</td>\n",
       "      <td>1</td>\n",
       "      <td>0</td>\n",
       "      <td>0</td>\n",
       "      <td>0</td>\n",
       "      <td>1</td>\n",
       "      <td>0</td>\n",
       "      <td>0</td>\n",
       "    </tr>\n",
       "    <tr>\n",
       "      <th>4</th>\n",
       "      <td>41</td>\n",
       "      <td>0</td>\n",
       "      <td>4.875197</td>\n",
       "      <td>5.323010</td>\n",
       "      <td>0</td>\n",
       "      <td>2</td>\n",
       "      <td>172</td>\n",
       "      <td>0</td>\n",
       "      <td>0.875469</td>\n",
       "      <td>0</td>\n",
       "      <td>0</td>\n",
       "      <td>1</td>\n",
       "      <td>0</td>\n",
       "      <td>0</td>\n",
       "      <td>0</td>\n",
       "      <td>1</td>\n",
       "      <td>1</td>\n",
       "      <td>0</td>\n",
       "      <td>0</td>\n",
       "    </tr>\n",
       "  </tbody>\n",
       "</table>\n",
       "</div>"
      ],
      "text/plain": [
       "   age  sex  trestbps      chol  fbs restecg  thalach  exang   oldpeak  ca  \\\n",
       "0   63    1  4.983607  5.455321    1       2      150      0  1.193922   0   \n",
       "1   67    1  5.081404  5.659482    0       2      108      1  0.916291   3   \n",
       "2   67    1  4.795791  5.438079    0       2      129      1  1.280934   2   \n",
       "3   37    1  4.875197  5.525453    0       0      187      0  1.504077   0   \n",
       "4   41    0  4.875197  5.323010    0       2      172      0  0.875469   0   \n",
       "\n",
       "   status  cp_atypical angina  cp_non-anginal pain  cp_typical angina  \\\n",
       "0       0                   0                    0                  1   \n",
       "1       1                   0                    0                  0   \n",
       "2       1                   0                    0                  0   \n",
       "3       0                   0                    1                  0   \n",
       "4       0                   1                    0                  0   \n",
       "\n",
       "   slope_flat  slope_upsloping  thal_normal  thal_reversable defect  \\\n",
       "0           0                0            0                       0   \n",
       "1           1                0            1                       0   \n",
       "2           1                0            0                       0   \n",
       "3           0                0            1                       0   \n",
       "4           0                1            1                       0   \n",
       "\n",
       "   thal_reversable defect   \n",
       "0                        0  \n",
       "1                        0  \n",
       "2                        1  \n",
       "3                        0  \n",
       "4                        0  "
      ]
     },
     "execution_count": 19,
     "metadata": {},
     "output_type": "execute_result"
    }
   ],
   "source": [
    "# Apply one-hot encoding for multi-class categorical columns\n",
    "df_encoded = pd.get_dummies(combined_df, columns=['cp', 'slope', 'thal'], drop_first=True)\n",
    "df_encoded.head()\n"
   ]
  },
  {
   "cell_type": "markdown",
   "metadata": {},
   "source": [
    "# Data Split"
   ]
  },
  {
   "cell_type": "code",
   "execution_count": 20,
   "metadata": {},
   "outputs": [],
   "source": [
    "X = df_encoded.drop('status', axis=1)  # Features\n",
    "y = df_encoded['status']                 # Target\n",
    "\n",
    "# Step 1: Split the dataset\n",
    "X_train, X_test, y_train, y_test = train_test_split(X, y, test_size=0.2, random_state=42)"
   ]
  },
  {
   "cell_type": "markdown",
   "metadata": {},
   "source": [
    "# Scaling"
   ]
  },
  {
   "cell_type": "code",
   "execution_count": 21,
   "metadata": {},
   "outputs": [],
   "source": [
    "from sklearn.preprocessing import StandardScaler\n",
    "\n",
    "scaler = StandardScaler()\n",
    "X_train_scaled = scaler.fit_transform(X_train)\n",
    "X_test_scaled = scaler.transform(X_test)"
   ]
  },
  {
   "cell_type": "markdown",
   "metadata": {},
   "source": [
    "# Data Visualization\n",
    "Visualize relationships between `age`, `sex`, and `status`"
   ]
  },
  {
   "cell_type": "code",
   "execution_count": 22,
   "metadata": {},
   "outputs": [
    {
     "data": {
      "image/png": "[encoded data removed]",
      "text/plain": [
       "<Figure size 640x480 with 1 Axes>"
      ]
     },
     "metadata": {},
     "output_type": "display_data"
    },
    {
     "data": {
      "image/png": "[encoded data removed]",
      "text/plain": [
       "<Figure size 640x480 with 1 Axes>"
      ]
     },
     "metadata": {},
     "output_type": "display_data"
    }
   ],
   "source": [
    "sns.countplot(data=combined_df, x='status', hue='sex')\n",
    "plt.title(\"Heart Disease Status by Sex\")\n",
    "plt.show()\n",
    "\n",
    "sns.histplot(data=combined_df, x='age', hue='status', kde=True)\n",
    "plt.title(\"Age Distribution by Heart Disease Status\")\n",
    "plt.show()\n"
   ]
  },
  {
   "cell_type": "markdown",
   "metadata": {},
   "source": [
    "# Modelling"
   ]
  },
  {
   "cell_type": "code",
   "execution_count": 23,
   "metadata": {},
   "outputs": [],
   "source": [
    "models = {\n",
    "    'Logistic Regression': LogisticRegression(),\n",
    "    'Random Forest': RandomForestClassifier(),\n",
    "    'Support Vector Machine': SVC()\n",
    "}"
   ]
  },
  {
   "cell_type": "markdown",
   "metadata": {},
   "source": [
    "## Model Training(Fitting)"
   ]
  },
  {
   "cell_type": "code",
   "execution_count": 24,
   "metadata": {},
   "outputs": [],
   "source": [
    "for model_name, model in models.items():\n",
    "    model.fit(X_train_scaled, y_train)\n"
   ]
  },
  {
   "cell_type": "markdown",
   "metadata": {},
   "source": [
    "## Model Performance (Evaluation)"
   ]
  },
  {
   "cell_type": "code",
   "execution_count": 25,
   "metadata": {},
   "outputs": [
    {
     "name": "stdout",
     "output_type": "stream",
     "text": [
      "Logistic Regression Evaluation:\n",
      "              precision    recall  f1-score   support\n",
      "\n",
      "           0       0.84      0.88      0.86        65\n",
      "           1       0.83      0.78      0.80        50\n",
      "\n",
      "    accuracy                           0.83       115\n",
      "   macro avg       0.83      0.83      0.83       115\n",
      "weighted avg       0.83      0.83      0.83       115\n",
      "\n",
      "[[57  8]\n",
      " [11 39]]\n",
      "Random Forest Evaluation:\n",
      "              precision    recall  f1-score   support\n",
      "\n",
      "           0       0.94      0.89      0.91        65\n",
      "           1       0.87      0.92      0.89        50\n",
      "\n",
      "    accuracy                           0.90       115\n",
      "   macro avg       0.90      0.91      0.90       115\n",
      "weighted avg       0.91      0.90      0.90       115\n",
      "\n",
      "[[58  7]\n",
      " [ 4 46]]\n",
      "Support Vector Machine Evaluation:\n",
      "              precision    recall  f1-score   support\n",
      "\n",
      "           0       0.83      0.83      0.83        65\n",
      "           1       0.78      0.78      0.78        50\n",
      "\n",
      "    accuracy                           0.81       115\n",
      "   macro avg       0.81      0.81      0.81       115\n",
      "weighted avg       0.81      0.81      0.81       115\n",
      "\n",
      "[[54 11]\n",
      " [11 39]]\n"
     ]
    }
   ],
   "source": [
    "for model_name, model in models.items():\n",
    "    y_pred = model.predict(X_test_scaled)\n",
    "    print(f\"{model_name} Evaluation:\")\n",
    "    print(classification_report(y_test, y_pred))\n",
    "    print(confusion_matrix(y_test, y_pred))\n"
   ]
  },
  {
   "cell_type": "markdown",
   "metadata": {},
   "source": [
    "## Hyper-Parameter Tuning(Best Model)"
   ]
  },
  {
   "cell_type": "code",
   "execution_count": 27,
   "metadata": {},
   "outputs": [
    {
     "name": "stdout",
     "output_type": "stream",
     "text": [
      "Best parameters for Random Forest: {'max_depth': 20, 'min_samples_split': 2, 'n_estimators': 50}\n"
     ]
    }
   ],
   "source": [
    "param_grid_rf = {\n",
    "    'n_estimators': [50, 100, 200],\n",
    "    'max_depth': [None, 10, 20],\n",
    "    'min_samples_split': [2, 5, 10]\n",
    "}\n",
    "grid_rf = GridSearchCV(RandomForestClassifier(), param_grid_rf, cv=5)\n",
    "grid_rf.fit(X_train_scaled, y_train)\n",
    "print(f\"Best parameters for Random Forest: {grid_rf.best_params_}\")"
   ]
  },
  {
   "cell_type": "markdown",
   "metadata": {},
   "source": [
    "## Final RF Evaluation"
   ]
  },
  {
   "cell_type": "code",
   "execution_count": 29,
   "metadata": {},
   "outputs": [
    {
     "name": "stdout",
     "output_type": "stream",
     "text": [
      "Final Evaluation of Best Model:\n",
      "              precision    recall  f1-score   support\n",
      "\n",
      "           0       0.94      0.92      0.93        65\n",
      "           1       0.90      0.92      0.91        50\n",
      "\n",
      "    accuracy                           0.92       115\n",
      "   macro avg       0.92      0.92      0.92       115\n",
      "weighted avg       0.92      0.92      0.92       115\n",
      "\n",
      "[[60  5]\n",
      " [ 4 46]]\n"
     ]
    }
   ],
   "source": [
    "# Final evaluation with the best hyperparameters\n",
    "best_rf_model = grid_rf.best_estimator_\n",
    "y_pred_best = best_rf_model.predict(X_test_scaled)\n",
    "\n",
    "print(\"Final Evaluation of Best Model:\")\n",
    "print(classification_report(y_test, y_pred_best))\n",
    "print(confusion_matrix(y_test, y_pred_best))"
   ]
  },
  {
   "cell_type": "markdown",
   "metadata": {},
   "source": [
    "### Model Performance Summary\n",
    "The final Random Forest model demonstrates high performance in predicting heart disease:\n",
    "\n",
    "- **Class 0 (No Heart Disease)**: Precision of 94%, Recall of 92%, F1-Score of 0.93.\n",
    "- **Class 1 (Heart Disease)**: Precision of 90%, Recall of 92%, F1-Score of 0.91.\n",
    "\n",
    "Overall accuracy is 92%, indicating that the model effectively identifies both heart disease cases and non-cases with minimal errors. The balanced precision and recall across classes suggest it is a reliable tool for heart disease prediction in this dataset.\n"
   ]
  },
  {
   "cell_type": "markdown",
   "metadata": {},
   "source": [
    "# Model Explanation"
   ]
  },
  {
   "cell_type": "code",
   "execution_count": 30,
   "metadata": {},
   "outputs": [
    {
     "name": "stdout",
     "output_type": "stream",
     "text": [
      "Top 10 Feature Ranking:\n",
      "1. Feature thalach (0.1326)\n",
      "2. Feature thal_normal (0.1323)\n",
      "3. Feature ca (0.1262)\n",
      "4. Feature oldpeak (0.0947)\n",
      "5. Feature age (0.0908)\n",
      "6. Feature trestbps (0.0710)\n",
      "7. Feature exang (0.0694)\n",
      "8. Feature chol (0.0676)\n",
      "9. Feature cp_non-anginal pain (0.0320)\n",
      "10. Feature slope_flat (0.0299)\n"
     ]
    }
   ],
   "source": [
    "# Feature importance\n",
    "feature_importances = best_rf_model.feature_importances_\n",
    "sorted_indices = feature_importances.argsort()[::-1]\n",
    "\n",
    "# Select the top 10 most important features\n",
    "top_n = 10\n",
    "top_indices = sorted_indices[:top_n]\n",
    "top_feature_importances = feature_importances[top_indices]\n",
    "top_feature_names = [X_train.columns[i] for i in top_indices]\n",
    "\n",
    "# Print the top 10 feature rankings\n",
    "print(\"Top 10 Feature Ranking:\")\n",
    "for i in range(top_n):\n",
    "    print(f\"{i + 1}. Feature {top_feature_names[i]} ({top_feature_importances[i]:.4f})\")\n"
   ]
  },
  {
   "cell_type": "markdown",
   "metadata": {},
   "source": [
    "# Visualize Feature Importance"
   ]
  },
  {
   "cell_type": "code",
   "execution_count": 31,
   "metadata": {},
   "outputs": [
    {
     "data": {
      "image/png": "[encoded data removed]",
      "text/plain": [
       "<Figure size 1000x600 with 1 Axes>"
      ]
     },
     "metadata": {},
     "output_type": "display_data"
    }
   ],
   "source": [
    "# Feature Importance Bar Chart for Top 10 Features\n",
    "plt.figure(figsize=(10, 6))\n",
    "plt.barh(range(top_n), top_feature_importances, align='center')\n",
    "plt.yticks(range(top_n), top_feature_names)\n",
    "plt.xlabel('Feature Importance')\n",
    "plt.title('Top 10 Feature Importance Rankings (Random Forest)')\n",
    "plt.gca().invert_yaxis()  # To have the most important feature at the top\n",
    "plt.tight_layout()\n",
    "plt.show()"
   ]
  },
  {
   "cell_type": "code",
   "execution_count": 32,
   "metadata": {},
   "outputs": [
    {
     "data": {
      "image/png": "[encoded data removed]",
      "text/plain": [
       "<Figure size 600x400 with 1 Axes>"
      ]
     },
     "metadata": {},
     "output_type": "display_data"
    }
   ],
   "source": [
    "# Confusion Matrix for Random Forest\n",
    "conf_matrix = confusion_matrix(y_test, y_pred_best)\n",
    "plt.figure(figsize=(6, 4))\n",
    "sns.heatmap(conf_matrix, annot=True, fmt='d', cmap='Blues', cbar=False, xticklabels=[\"No Disease\", \"Disease\"], yticklabels=[\"No Disease\", \"Disease\"])\n",
    "plt.xlabel('Predicted Label')\n",
    "plt.ylabel('True Label')\n",
    "plt.title('Confusion Matrix (Random Forest)')\n",
    "plt.tight_layout()\n",
    "plt.show()\n"
   ]
  },
  {
   "cell_type": "code",
   "execution_count": null,
   "metadata": {},
   "outputs": [],
   "source": []
  }
 ],
 "metadata": {
  "kernelspec": {
   "display_name": "Python 3 (ipykernel)",
   "language": "python",
   "name": "python3"
  },
  "language_info": {
   "codemirror_mode": {
    "name": "ipython",
    "version": 3
   },
   "file_extension": ".py",
   "mimetype": "text/x-python",
   "name": "python",
   "nbconvert_exporter": "python",
   "pygments_lexer": "ipython3",
   "version": "3.10.9"
  }
 },
 "nbformat": 4,
 "nbformat_minor": 2
}
